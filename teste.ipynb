{
 "cells": [
  {
   "cell_type": "code",
   "execution_count": 47,
   "metadata": {},
   "outputs": [],
   "source": [
    "from serenata_toolbox.datasets import Datasets\n",
    "import pandas as pd\n",
    "import requests\n",
    "path = \"/tmp/serenata-data/\""
   ]
  },
  {
   "cell_type": "code",
   "execution_count": 38,
   "metadata": {},
   "outputs": [],
   "source": [
    "df_2018 = pd.read_csv(path+\"Ano-2018.csv\", sep=';')\n",
    "df_senado_2019 = pd.read_csv(path+\"federal-senate-2019.csv\", sep=';', encoding='latin-1')\n",
    "df_senado_2018 = pd.read_csv(path+\"federal-senate-2018.csv\", sep=';', encoding='latin-1')"
   ]
  },
  {
   "cell_type": "code",
   "execution_count": 113,
   "metadata": {},
   "outputs": [],
   "source": [
    "senado_2019 = df_senado_2019.reset_index().set_index('level_2')\n",
    "senado_2019 = senado_2019.drop(columns=['level_0','level_1'])"
   ]
  },
  {
   "cell_type": "code",
   "execution_count": 114,
   "metadata": {},
   "outputs": [],
   "source": [
    "senadores = requests.get('http://legis.senado.leg.br/dadosabertos/senador/lista/atual', headers={'Accept':'application/json'}).json()\n",
    "senadores = senadores['ListaParlamentarEmExercicio']['Parlamentares']['Parlamentar']\n",
    "\n",
    "senadoresPB = requests.get(\"http://legis.senado.leg.br/dadosabertos/senador/lista/atual?uf=PB\", headers={'Accept':'application/json'}).json()\n",
    "senadoresPB = senadoresPB['ListaParlamentarEmExercicio']['Parlamentares']['Parlamentar']"
   ]
  },
  {
   "cell_type": "code",
   "execution_count": 116,
   "metadata": {},
   "outputs": [
    {
     "data": {
      "text/plain": [
       "Index(['txNomeParlamentar', 'cpf', 'ideCadastro', 'nuCarteiraParlamentar',\n",
       "       'nuLegislatura', 'sgUF', 'sgPartido', 'codLegislatura', 'numSubCota',\n",
       "       'txtDescricao', 'numEspecificacaoSubCota', 'txtDescricaoEspecificacao',\n",
       "       'txtFornecedor', 'txtCNPJCPF', 'txtNumero', 'indTipoDocumento',\n",
       "       'datEmissao', 'vlrDocumento', 'vlrGlosa', 'vlrLiquido', 'numMes',\n",
       "       'numAno', 'numParcela', 'txtPassageiro', 'txtTrecho', 'numLote',\n",
       "       'numRessarcimento', 'vlrRestituicao', 'nuDeputadoId', 'ideDocumento',\n",
       "       'urlDocumento'],\n",
       "      dtype='object')"
      ]
     },
     "execution_count": 116,
     "metadata": {},
     "output_type": "execute_result"
    }
   ],
   "source": [
    "df_2018.columns"
   ]
  },
  {
   "cell_type": "code",
   "execution_count": null,
   "metadata": {},
   "outputs": [],
   "source": []
  }
 ],
 "metadata": {
  "kernelspec": {
   "display_name": "Python 3",
   "language": "python",
   "name": "python3"
  },
  "language_info": {
   "codemirror_mode": {
    "name": "ipython",
    "version": 3
   },
   "file_extension": ".py",
   "mimetype": "text/x-python",
   "name": "python",
   "nbconvert_exporter": "python",
   "pygments_lexer": "ipython3",
   "version": "3.7.3"
  }
 },
 "nbformat": 4,
 "nbformat_minor": 2
}
